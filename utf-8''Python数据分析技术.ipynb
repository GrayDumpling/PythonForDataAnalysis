{
  "cells": [
    {
      "metadata": {},
      "cell_type": "markdown",
      "source": "# Python  数据分析技术\n\n## 教师 \n\n<img src=\"images/fang2.jpg\" width=\"500\"/>|<img src=\"images/dawei2.jpg\" width=\"500\">|<img src=\"images/wentao2.jpg\" width=\"500\"/>| <img src=\"images/xingxin2.jpg\" width=\"500\"/>\n----|----|----|----\n蔡放|夏大伟|曾文韬|许兴鑫\n答疑时间：周四 6pm - 8pm|答疑时间：|答疑时间：周二：30pm-2:10pm|答疑时间：周五1：30pm-2:10pm\n爱好：喝奶茶，青春有你2，这就是街舞，运动，政治剧，大侦探波罗|爱好：看书，看电影，写代码，庆余年，至暗时刻，css世界|爱好：撸串，烧烤，摄影摄像，音频剪辑，志愿服务|爱好：骑行，垂钓，电竞（uzi，英雄联盟ADC，永远的神），和平精英\nffcai@stanford.edu|xiadw_public@163.com|1354410101@qq.com|xua8986@163.com\n\n\n## 时间：周一1:30pm-3:10pm 周四3:30pm-5:10pm\n\n## [地点](https://ke.qq.com/webcourse/index.html?cid=2095931&term_id=102198101&lite=1&from=800021724)：[腾讯课堂](https://ke.qq.com/webcourse/index.html?cid=2095931&term_id=102198101&lite=1&from=800021724)\n\n\n\n## 工具\n\n### Chrome：\n我们推荐使用Chrome浏览器因为\n1. Chrome浏览器有很方便的翻译功能 （demo），这门课上要用一些英文的网站\n2. Jupyter notebook和Chrome兼容的很好\n\n### [Piazza](piazza.com/shenyang_northern_software_institute_of_information_technology/spring2020/bd201/home)：\n请使用Piazza解答与课程相关的所有问题。我们将Piazza用作与课程相关的公告的主要门户，因此请务必[注册](https://piazza.com/shenyang_northern_software_institute_of_information_technology/spring2020/bd201)！对于所有Piazza帖子，我们保证我们会在24小时内回复。(demo)  \n\n### [Ananconda](https://www.anaconda.com/distribution/) Python 3.7: \n安装Python和7500+个Python数据科学软件包\n\n### Jupyter notebook: \nJupyter Notebook是一个开源Web应用程序，可让您创建和共享包含实时代码，方程式，可视化效果和叙述文本的文档。用途包括：数据清理和转换，数值模拟，统计模型，数据可视化，机器学习等。\n- [安装指南](https://jupyter.org/install.html)\n- 知乎文章[Jupyter notebook可以做那些事情](https://www.zhihu.com/question/46309360)\n\n\n\n## 教材和资源（持续更新）\n\n[利用Python进行数据分析（第二版）](https://openbiox.github.io/py4ds-CN/)  \n[利用Python进行数据分析 第二版 (2017) 中文翻译笔记](https://github.com/BrambleXu/pydata-notebook)  \n[Materials and IPython notebooks for \"Python for Data Analysis\" by Wes McKinney](https://github.com/wesm/pydata-book)\n\n## 答疑\n所有答疑时间都是通过Zoom进行的，答疑时间中老师回答您对课程内容和作业的问题，如果有时间也可以辅导您调试程序。我们希望通过老师的辅助，每个人都能回答作业的所有问题。\n\n## 评分\n\n### 作业  50%\n所有作业应在截止日期的23点。作业通过酷课网提交。不要通过电子邮件提交作业。如果有任何问题，请在Piazza上提问或联系课程助理。您可以在截止日期之前提交任意多次：我们只会对最后一次提交进行评分。部分完成的作业总比不提交任何作业要好。\n\n### 考试 20%\n考试会以面试的形式进行，老师现场出题，同学来在线进行数据分析，题目会类似于作业题目，难度会稍简单一些。\n\n### 课堂 30%\n我们非常鼓励同学参与课堂的讨论中来，不同于传统的教学模式，我希望课堂上同学们能够一起发挥创意，构造一个天马行空的的课堂。得到这部分分数方法有\n- 分享，提问，或回答问题\n- 补充或评价老师讲的内容\n- 分享屏幕展示自己的数据分析\n- 分享好的学习材料或数据分析实例  \n每一次的（不仅限于以上方式）课堂参与都会获得1% - 30%的加分。\n\n### 项目 20%\n最终项目为您提供了一个使用课堂上的工具来构建自己感兴趣的东西的机会。项目应以最多四个人为一组进行。该项目将是您在整个课程中都会进行的工作，我们已经建立了一些里程碑，以帮助您：\n- 项目提案（ 5月7日，星期四）\n- 项目进度报告（ 5月28日，星期四）\n- 项目最终报告（ 6月15日，星期一） \n\n无论小组人数多少，所有小组都必须提交每个里程碑中详细说明的相同基本工作量，并按照相同的标准进行评分。尽管我们允许1-2人的项目建议书，但我们鼓励3人以上的小组。我们鼓励学生组成3人以上的团队的原因是，根据我们的经验，这个规模通常最适合项目的期望。我们希望团队提交完成的项目（即使是1或2的团队），因此请记住，所有项目都需要花费最小的努力来收集数据，并建立基础架构以达到某种形式的结果。一个3人的团队可以更好地共享这些任务，使团队可以将更多的精力放在有趣的事情上，例如结果和讨论。\n\n### Piazza 10%\n如果您以实质性和有益的方式回答其他学生的问题，您将获得最多10％的额外学分。\n\n## 合作政策和荣誉守则\n您可以自由地组成学习小组并讨论家庭作业和项目。但是，您必须从头开始独立编写作业和代码，并且必须在提交的内容中确认与您讨论过的所有学生。以下内容被视为违反荣誉代码：\n- 查看其他学生的作业或代码。\n- 向其他学生显示您的作业或代码。\n- 如此详细地讨论作业问题，以使您的解决方案（写作或代码）几乎与另一位学生的答案相同。\n- 将您的作业或代码上传到公共存储库，以便其他学生可以访问。\n- 从网络上寻找解决方案。\n当一起调试代码时，只允许查看彼此程序的输入输出行为（因此，您\n应该编写良好的测试用例！）。重要的是要记住，即使您没有复制而是只是给另一个学生您的解决方案，您仍然在违反荣誉代码，因此请小心。我们会定期对所有提交的学生程序运行相似性检测软件，任何违反荣誉守则的人将转交给教学处。如果您觉得自己犯了一个错误（这可能会发生，尤其是在时间压力下！），请与教师或助教取得联系。与我们联系您相比，后果将不那么严重。\n\n\n"
    }
  ],
  "metadata": {
    "kernelspec": {
      "name": "python36",
      "display_name": "Python 3.6",
      "language": "python"
    },
    "language_info": {
      "mimetype": "text/x-python",
      "nbconvert_exporter": "python",
      "name": "python",
      "pygments_lexer": "ipython3",
      "version": "3.6.6",
      "file_extension": ".py",
      "codemirror_mode": {
        "version": 3,
        "name": "ipython"
      }
    }
  },
  "nbformat": 4,
  "nbformat_minor": 1
}